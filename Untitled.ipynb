{
 "cells": [
  {
   "cell_type": "code",
   "execution_count": null,
   "id": "485c62c4",
   "metadata": {},
   "outputs": [],
   "source": [
    "import cv2\n",
    "import seaborn as sns\n",
    "import pytesseract\n",
    "from pathlib import Path\n",
    "from tqdm.notebook import tqdm\n",
    "import numpy as np\n",
    "from sklearn.decomposition import PCA\n",
    "import matplotlib.pyplot as plt\n",
    "import unidecode\n",
    "import pylab\n",
    "from skimage.filters import (threshold_otsu, threshold_niblack,\n",
    "                             threshold_sauvola)\n",
    "\n",
    "from parser import *\n",
    "from img_preproc import *\n",
    "from img_utils import *\n",
    "from tes_ocr import *"
   ]
  },
  {
   "cell_type": "code",
   "execution_count": null,
   "metadata": {},
   "outputs": [],
   "source": [
    "pylab.rcParams['figure.figsize'] = (12,8)\n",
    "sns.set_theme(style='whitegrid')"
   ]
  },
  {
   "cell_type": "code",
   "execution_count": null,
   "metadata": {},
   "outputs": [],
   "source": [
    "%load_ext autoreload\n",
    "%autoreload 2"
   ]
  },
  {
   "cell_type": "code",
   "execution_count": null,
   "metadata": {
    "tags": []
   },
   "outputs": [],
   "source": [
    "img_texts = {}\n",
    "\n",
    "for img_path in tqdm(Path('data/monoprix/receipt2').iterdir()):\n",
    "    print('Loading Image', img_path.name)\n",
    "    \n",
    "    img = cv2.imread(str(img_path))\n",
    "    ocr_img = preproc2(img, 2)\n",
    "    ocr_img = get_grayscale(ocr_img)\n",
    "    # ocr_img = blur(ocr_img, 5)\n",
    "    # th, ocr_img = to_bin(ocr_img)\n",
    "    # ocr_img = cv2.adaptiveThreshold(ocr_img,255,cv2.ADAPTIVE_THRESH_GAUSSIAN_C, cv2.THRESH_BINARY,11,5)\n",
    "    # show([ocr_img], 0.8)\n",
    "    # print('Otsu th:', th)\n",
    "    # thresh_niblack = threshold_niblack(ocr_img, window_size=25, k=2)\n",
    "    thresh_sauvola = threshold_sauvola(ocr_img, window_size=15, k=.1)\n",
    "    # niblack_img = (ocr_img > thresh_niblack).astype(np.uint8)*255\n",
    "    sauvola_img = (ocr_img > thresh_sauvola).astype(np.uint8)*255\n",
    "    show([ocr_img, sauvola_img], 0.4)\n",
    "    ocr_img = sauvola_img\n",
    "    \n",
    "    df_ocr = get_ocr(ocr_img)\n",
    "    df_ocr = postprocess_ocr(df_ocr)\n",
    "    ocr_text = extract_text(df_ocr)\n",
    "    ocr_text = list(map(unidecode.unidecode, ocr_text))  # Removes accents\n",
    "    list(map(print, ocr_text))    \n",
    "\n",
    "    show_boxes(ocr_img, df_ocr, 5, 0.4)\n",
    "\n",
    "    monoparser = MonoprixParser()\n",
    "    monoparser.parse_monoprix(ocr_text)\n",
    "    display(monoparser.df_articles)\n",
    "\n"
   ]
  },
  {
   "cell_type": "code",
   "execution_count": null,
   "metadata": {},
   "outputs": [],
   "source": []
  },
  {
   "cell_type": "code",
   "execution_count": null,
   "metadata": {},
   "outputs": [],
   "source": [
    "pos = detect_trailing_dots(ocr_img)\n",
    "col_img = get_color(ocr_img)\n",
    "for y, x in pos:\n",
    "    xs = x -(np.arange(20)*17.75).astype(int)\n",
    "\n",
    "    for xx in xs:\n",
    "        col_img = cv2.circle(col_img, (xx,y), 6, (0, 255, 0), 2)\n",
    "show([col_img], scale=0.95)"
   ]
  },
  {
   "cell_type": "code",
   "execution_count": null,
   "metadata": {},
   "outputs": [],
   "source": [
    "show([ocr_img], scale=0.5)"
   ]
  },
  {
   "cell_type": "code",
   "execution_count": null,
   "metadata": {},
   "outputs": [],
   "source": [
    "df_ocr[df_ocr.level==5].plot.scatter('left', 'top')\n",
    "plt.gca().invert_yaxis()"
   ]
  },
  {
   "cell_type": "code",
   "execution_count": null,
   "metadata": {},
   "outputs": [],
   "source": [
    "pd.set_option('display.max_rows', 20)\n",
    "df_info[~df_info.text.isna()].sort_values('height').head(50)"
   ]
  },
  {
   "cell_type": "code",
   "execution_count": null,
   "metadata": {},
   "outputs": [],
   "source": []
  }
 ],
 "metadata": {
  "kernelspec": {
   "display_name": "ocr-venv",
   "language": "python",
   "name": "ocr-venv"
  },
  "language_info": {
   "codemirror_mode": {
    "name": "ipython",
    "version": 3
   },
   "file_extension": ".py",
   "mimetype": "text/x-python",
   "name": "python",
   "nbconvert_exporter": "python",
   "pygments_lexer": "ipython3",
   "version": "3.6.9"
  }
 },
 "nbformat": 4,
 "nbformat_minor": 5
}