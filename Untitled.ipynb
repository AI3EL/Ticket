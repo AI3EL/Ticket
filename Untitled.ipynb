{
 "cells": [
  {
   "cell_type": "code",
   "execution_count": null,
   "id": "485c62c4",
   "metadata": {},
   "outputs": [],
   "source": [
    "import cv2\n",
    "import seaborn as sns\n",
    "import pytesseract\n",
    "from pathlib import Path\n",
    "from tqdm.notebook import tqdm\n",
    "import numpy as np\n",
    "from sklearn.decomposition import PCA\n",
    "import matplotlib.pyplot as plt\n",
    "import unidecode\n",
    "import pylab\n",
    "from skimage.filters import (threshold_otsu, threshold_niblack,\n",
    "                             threshold_sauvola)\n",
    "\n",
    "from parser import *\n",
    "from img_preproc import *\n",
    "from img_utils import *\n",
    "from tes_ocr import *"
   ]
  },
  {
   "cell_type": "code",
   "execution_count": null,
   "metadata": {},
   "outputs": [],
   "source": [
    "pylab.rcParams['figure.figsize'] = (12,8)\n",
    "sns.set_theme(style='whitegrid')"
   ]
  },
  {
   "cell_type": "code",
   "execution_count": null,
   "metadata": {},
   "outputs": [],
   "source": [
    "%load_ext autoreload\n",
    "%autoreload 2"
   ]
  },
  {
   "cell_type": "code",
   "execution_count": null,
   "metadata": {},
   "outputs": [],
   "source": [
    "%env TESSDATA_PREFIX=/home/abel/tesseract-4.1.1/tessdata"
   ]
  },
  {
   "cell_type": "code",
   "execution_count": null,
   "metadata": {},
   "outputs": [],
   "source": [
    "v = 2\n",
    "\n",
    "for img_path in tqdm(Path('data/monoprix/receipt1').iterdir()):\n",
    "    if img_path.name == '3.JPG': continue\n",
    "    print('Loading Image', img_path.name)\n",
    "    \n",
    "    img = cv2.imread(str(img_path))\n",
    "    show([img], 0.2)\n",
    "    ocr_img, dpi = preprocess_ocr(img, None, v)\n",
    "    ocr_img = get_grayscale(ocr_img)\n",
    "    thresh_sauvola = threshold_sauvola(ocr_img, window_size=31, k=.1)\n",
    "    sauvola_img = (ocr_img > thresh_sauvola).astype(np.uint8)*255\n",
    "    MonoprixLineOCR(300, v=2).fit(ocr_img, sauvola_img, dpi)"
   ]
  },
  {
   "cell_type": "code",
   "execution_count": null,
   "metadata": {},
   "outputs": [],
   "source": [
    "MonoprixLineOCR(300, v=2).fit(ocr_img, sauvola_img, dpi)"
   ]
  },
  {
   "cell_type": "code",
   "execution_count": null,
   "metadata": {},
   "outputs": [],
   "source": [
    "detect_trailing_dots(sauvola_img, dpi)"
   ]
  },
  {
   "cell_type": "code",
   "execution_count": null,
   "metadata": {},
   "outputs": [],
   "source": [
    "df_ocr[df_ocr.level == 5].sort_values('height', ascending=False).head(20)"
   ]
  },
  {
   "cell_type": "code",
   "execution_count": null,
   "metadata": {},
   "outputs": [],
   "source": []
  },
  {
   "cell_type": "code",
   "execution_count": null,
   "metadata": {},
   "outputs": [],
   "source": [
    "df_ocr[df_ocr.level == 5].height.plot.hist(bins=np.arange(10,40))"
   ]
  },
  {
   "cell_type": "code",
   "execution_count": null,
   "metadata": {},
   "outputs": [],
   "source": []
  },
  {
   "cell_type": "code",
   "execution_count": null,
   "metadata": {},
   "outputs": [],
   "source": [
    "show_boxes(ocr_img, df_ocr, 5, 0.5)\n"
   ]
  },
  {
   "cell_type": "code",
   "execution_count": null,
   "metadata": {},
   "outputs": [],
   "source": [
    "pos = detect_trailing_dots(ocr_img)\n",
    "col_img = get_color(ocr_img)\n",
    "for y, x in pos:\n",
    "    xs = x -(np.arange(20)*17.75).astype(int)\n",
    "\n",
    "    for xx in xs:\n",
    "        col_img = cv2.circle(col_img, (xx,y), 6, (0, 255, 0), 2)\n",
    "show([col_img], scale=0.5)"
   ]
  },
  {
   "cell_type": "code",
   "execution_count": null,
   "metadata": {},
   "outputs": [],
   "source": [
    "show([ocr_img], scale=0.5)"
   ]
  },
  {
   "cell_type": "code",
   "execution_count": null,
   "metadata": {},
   "outputs": [],
   "source": [
    "df_ocr[df_ocr.level==5].plot.scatter('left', 'top')\n",
    "plt.gca().invert_yaxis()"
   ]
  },
  {
   "cell_type": "code",
   "execution_count": null,
   "metadata": {},
   "outputs": [],
   "source": [
    "pd.set_option('display.max_rows', 20)\n",
    "df_info[~df_info.text.isna()].sort_values('height').head(50)"
   ]
  },
  {
   "cell_type": "code",
   "execution_count": null,
   "metadata": {},
   "outputs": [],
   "source": []
  }
 ],
 "metadata": {
  "kernelspec": {
   "display_name": "ocr-venv",
   "language": "python",
   "name": "ocr-venv"
  },
  "language_info": {
   "codemirror_mode": {
    "name": "ipython",
    "version": 3
   },
   "file_extension": ".py",
   "mimetype": "text/x-python",
   "name": "python",
   "nbconvert_exporter": "python",
   "pygments_lexer": "ipython3",
   "version": "3.6.9"
  }
 },
 "nbformat": 4,
 "nbformat_minor": 5
}